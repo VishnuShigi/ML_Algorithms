{
 "cells": [
  {
   "cell_type": "markdown",
   "id": "f87f4e9c",
   "metadata": {},
   "source": [
    "Importing the necessary libraries"
   ]
  },
  {
   "cell_type": "code",
   "execution_count": 1,
   "id": "6b526963",
   "metadata": {},
   "outputs": [],
   "source": [
    "import pandas as pd\n",
    "import numpy as np\n",
    "import matplotlib.pyplot as plt\n",
    "from sklearn import linear_model\n",
    "from sklearn.metrics import r2_score"
   ]
  },
  {
   "cell_type": "markdown",
   "id": "ace867c9",
   "metadata": {},
   "source": [
    "Read the Dataset"
   ]
  },
  {
   "cell_type": "code",
   "execution_count": 2,
   "id": "a7b1031f",
   "metadata": {},
   "outputs": [
    {
     "data": {
      "text/html": [
       "<div>\n",
       "<style scoped>\n",
       "    .dataframe tbody tr th:only-of-type {\n",
       "        vertical-align: middle;\n",
       "    }\n",
       "\n",
       "    .dataframe tbody tr th {\n",
       "        vertical-align: top;\n",
       "    }\n",
       "\n",
       "    .dataframe thead th {\n",
       "        text-align: right;\n",
       "    }\n",
       "</style>\n",
       "<table border=\"1\" class=\"dataframe\">\n",
       "  <thead>\n",
       "    <tr style=\"text-align: right;\">\n",
       "      <th></th>\n",
       "      <th>MODELYEAR</th>\n",
       "      <th>MAKE</th>\n",
       "      <th>MODEL</th>\n",
       "      <th>VEHICLECLASS</th>\n",
       "      <th>ENGINESIZE</th>\n",
       "      <th>CYLINDERS</th>\n",
       "      <th>TRANSMISSION</th>\n",
       "      <th>FUELTYPE</th>\n",
       "      <th>FUELCONSUMPTION_CITY</th>\n",
       "      <th>FUELCONSUMPTION_HWY</th>\n",
       "      <th>FUELCONSUMPTION_COMB</th>\n",
       "      <th>FUELCONSUMPTION_COMB_MPG</th>\n",
       "      <th>CO2EMISSIONS</th>\n",
       "    </tr>\n",
       "  </thead>\n",
       "  <tbody>\n",
       "    <tr>\n",
       "      <th>0</th>\n",
       "      <td>2014</td>\n",
       "      <td>ACURA</td>\n",
       "      <td>ILX</td>\n",
       "      <td>COMPACT</td>\n",
       "      <td>2.0</td>\n",
       "      <td>4</td>\n",
       "      <td>AS5</td>\n",
       "      <td>Z</td>\n",
       "      <td>9.9</td>\n",
       "      <td>6.7</td>\n",
       "      <td>8.5</td>\n",
       "      <td>33</td>\n",
       "      <td>196</td>\n",
       "    </tr>\n",
       "    <tr>\n",
       "      <th>1</th>\n",
       "      <td>2014</td>\n",
       "      <td>ACURA</td>\n",
       "      <td>ILX</td>\n",
       "      <td>COMPACT</td>\n",
       "      <td>2.4</td>\n",
       "      <td>4</td>\n",
       "      <td>M6</td>\n",
       "      <td>Z</td>\n",
       "      <td>11.2</td>\n",
       "      <td>7.7</td>\n",
       "      <td>9.6</td>\n",
       "      <td>29</td>\n",
       "      <td>221</td>\n",
       "    </tr>\n",
       "    <tr>\n",
       "      <th>2</th>\n",
       "      <td>2014</td>\n",
       "      <td>ACURA</td>\n",
       "      <td>ILX HYBRID</td>\n",
       "      <td>COMPACT</td>\n",
       "      <td>1.5</td>\n",
       "      <td>4</td>\n",
       "      <td>AV7</td>\n",
       "      <td>Z</td>\n",
       "      <td>6.0</td>\n",
       "      <td>5.8</td>\n",
       "      <td>5.9</td>\n",
       "      <td>48</td>\n",
       "      <td>136</td>\n",
       "    </tr>\n",
       "    <tr>\n",
       "      <th>3</th>\n",
       "      <td>2014</td>\n",
       "      <td>ACURA</td>\n",
       "      <td>MDX 4WD</td>\n",
       "      <td>SUV - SMALL</td>\n",
       "      <td>3.5</td>\n",
       "      <td>6</td>\n",
       "      <td>AS6</td>\n",
       "      <td>Z</td>\n",
       "      <td>12.7</td>\n",
       "      <td>9.1</td>\n",
       "      <td>11.1</td>\n",
       "      <td>25</td>\n",
       "      <td>255</td>\n",
       "    </tr>\n",
       "    <tr>\n",
       "      <th>4</th>\n",
       "      <td>2014</td>\n",
       "      <td>ACURA</td>\n",
       "      <td>RDX AWD</td>\n",
       "      <td>SUV - SMALL</td>\n",
       "      <td>3.5</td>\n",
       "      <td>6</td>\n",
       "      <td>AS6</td>\n",
       "      <td>Z</td>\n",
       "      <td>12.1</td>\n",
       "      <td>8.7</td>\n",
       "      <td>10.6</td>\n",
       "      <td>27</td>\n",
       "      <td>244</td>\n",
       "    </tr>\n",
       "  </tbody>\n",
       "</table>\n",
       "</div>"
      ],
      "text/plain": [
       "   MODELYEAR   MAKE       MODEL VEHICLECLASS  ENGINESIZE  CYLINDERS  \\\n",
       "0       2014  ACURA         ILX      COMPACT         2.0          4   \n",
       "1       2014  ACURA         ILX      COMPACT         2.4          4   \n",
       "2       2014  ACURA  ILX HYBRID      COMPACT         1.5          4   \n",
       "3       2014  ACURA     MDX 4WD  SUV - SMALL         3.5          6   \n",
       "4       2014  ACURA     RDX AWD  SUV - SMALL         3.5          6   \n",
       "\n",
       "  TRANSMISSION FUELTYPE  FUELCONSUMPTION_CITY  FUELCONSUMPTION_HWY  \\\n",
       "0          AS5        Z                   9.9                  6.7   \n",
       "1           M6        Z                  11.2                  7.7   \n",
       "2          AV7        Z                   6.0                  5.8   \n",
       "3          AS6        Z                  12.7                  9.1   \n",
       "4          AS6        Z                  12.1                  8.7   \n",
       "\n",
       "   FUELCONSUMPTION_COMB  FUELCONSUMPTION_COMB_MPG  CO2EMISSIONS  \n",
       "0                   8.5                        33           196  \n",
       "1                   9.6                        29           221  \n",
       "2                   5.9                        48           136  \n",
       "3                  11.1                        25           255  \n",
       "4                  10.6                        27           244  "
      ]
     },
     "execution_count": 2,
     "metadata": {},
     "output_type": "execute_result"
    }
   ],
   "source": [
    "data = pd.read_csv(\"./FuelConsumptionCO2.csv\")\n",
    "data.head()"
   ]
  },
  {
   "cell_type": "markdown",
   "id": "70a06baf",
   "metadata": {},
   "source": [
    "Considering the features"
   ]
  },
  {
   "cell_type": "code",
   "execution_count": 3,
   "id": "9fdd3af9",
   "metadata": {},
   "outputs": [],
   "source": [
    "X = data[[ 'ENGINESIZE', 'CYLINDERS', 'FUELCONSUMPTION_CITY','FUELCONSUMPTION_HWY', \n",
    " 'FUELCONSUMPTION_COMB','FUELCONSUMPTION_COMB_MPG']]\n",
    "Y = data[\"CO2EMISSIONS\"]"
   ]
  },
  {
   "cell_type": "markdown",
   "id": "db35f5c4",
   "metadata": {},
   "source": [
    "Generating training and testing data from the dataset 'data'"
   ]
  },
  {
   "cell_type": "code",
   "execution_count": 4,
   "id": "d0472a4f",
   "metadata": {},
   "outputs": [],
   "source": [
    "train = data[:(int((len(data)*0.85)))] #Using 85% data as training dataset\n",
    "test = data[(int((len(data)*0.85))):]"
   ]
  },
  {
   "cell_type": "markdown",
   "id": "93fe112a",
   "metadata": {},
   "source": [
    "Creating and fitting the Linear Regression Model"
   ]
  },
  {
   "cell_type": "code",
   "execution_count": 5,
   "id": "b08f18c2",
   "metadata": {},
   "outputs": [
    {
     "data": {
      "text/plain": [
       "LinearRegression()"
      ]
     },
     "execution_count": 5,
     "metadata": {},
     "output_type": "execute_result"
    }
   ],
   "source": [
    "regr = linear_model.LinearRegression()\n",
    "train_x = np.array(train[['ENGINESIZE', 'CYLINDERS', 'FUELCONSUMPTION_CITY','FUELCONSUMPTION_HWY', \n",
    "                          'FUELCONSUMPTION_COMB','FUELCONSUMPTION_COMB_MPG']])\n",
    "train_y = np.array(train[\"CO2EMISSIONS\"])\n",
    "regr.fit(train_x,train_y)"
   ]
  },
  {
   "cell_type": "markdown",
   "id": "b1eeedd3",
   "metadata": {},
   "source": [
    "Printing the Co-efficients Values"
   ]
  },
  {
   "cell_type": "code",
   "execution_count": 6,
   "id": "7cb44aa6",
   "metadata": {},
   "outputs": [
    {
     "data": {
      "text/html": [
       "<div>\n",
       "<style scoped>\n",
       "    .dataframe tbody tr th:only-of-type {\n",
       "        vertical-align: middle;\n",
       "    }\n",
       "\n",
       "    .dataframe tbody tr th {\n",
       "        vertical-align: top;\n",
       "    }\n",
       "\n",
       "    .dataframe thead th {\n",
       "        text-align: right;\n",
       "    }\n",
       "</style>\n",
       "<table border=\"1\" class=\"dataframe\">\n",
       "  <thead>\n",
       "    <tr style=\"text-align: right;\">\n",
       "      <th></th>\n",
       "      <th>Coefficients</th>\n",
       "    </tr>\n",
       "  </thead>\n",
       "  <tbody>\n",
       "    <tr>\n",
       "      <th>ENGINESIZE</th>\n",
       "      <td>7.959552</td>\n",
       "    </tr>\n",
       "    <tr>\n",
       "      <th>CYLINDERS</th>\n",
       "      <td>8.113911</td>\n",
       "    </tr>\n",
       "    <tr>\n",
       "      <th>FUELCONSUMPTION_CITY</th>\n",
       "      <td>-7.150317</td>\n",
       "    </tr>\n",
       "    <tr>\n",
       "      <th>FUELCONSUMPTION_HWY</th>\n",
       "      <td>-0.460545</td>\n",
       "    </tr>\n",
       "    <tr>\n",
       "      <th>FUELCONSUMPTION_COMB</th>\n",
       "      <td>11.003443</td>\n",
       "    </tr>\n",
       "    <tr>\n",
       "      <th>FUELCONSUMPTION_COMB_MPG</th>\n",
       "      <td>-4.078097</td>\n",
       "    </tr>\n",
       "  </tbody>\n",
       "</table>\n",
       "</div>"
      ],
      "text/plain": [
       "                          Coefficients\n",
       "ENGINESIZE                    7.959552\n",
       "CYLINDERS                     8.113911\n",
       "FUELCONSUMPTION_CITY         -7.150317\n",
       "FUELCONSUMPTION_HWY          -0.460545\n",
       "FUELCONSUMPTION_COMB         11.003443\n",
       "FUELCONSUMPTION_COMB_MPG     -4.078097"
      ]
     },
     "execution_count": 6,
     "metadata": {},
     "output_type": "execute_result"
    }
   ],
   "source": [
    "coeff_data = pd.DataFrame(regr.coef_ , X.columns , columns=[\"Coefficients\"])\n",
    "coeff_data"
   ]
  },
  {
   "cell_type": "markdown",
   "id": "20f45246",
   "metadata": {},
   "source": [
    "Prediction of data"
   ]
  },
  {
   "cell_type": "code",
   "execution_count": 7,
   "id": "7b6a6351",
   "metadata": {},
   "outputs": [],
   "source": [
    "test_x = np.array(test[['ENGINESIZE', 'CYLINDERS', 'FUELCONSUMPTION_CITY','FUELCONSUMPTION_HWY',\n",
    "                        'FUELCONSUMPTION_COMB','FUELCONSUMPTION_COMB_MPG']])\n",
    "test_y = np.array(test[\"CO2EMISSIONS\"])"
   ]
  },
  {
   "cell_type": "code",
   "execution_count": 8,
   "id": "ec472283",
   "metadata": {},
   "outputs": [
    {
     "name": "stdout",
     "output_type": "stream",
     "text": [
      "[256.74486897 302.0392456  302.37850366 329.51419354 317.95588064\n",
      " 336.29681581 323.68421312 250.1816779  278.88027679 316.35348995\n",
      " 245.46158069 268.30322241 309.55178991 264.86548623 263.19781263\n",
      " 301.70533896 371.97686432 371.97686432 377.28392326 377.28392326\n",
      " 377.32997779 377.32997779 370.66588663 191.9448268  210.69715243\n",
      " 135.27806557 210.24049584 210.19444131 221.99201103 221.99201103\n",
      " 187.5476418  183.79926422 132.98807592 132.98807592 377.29976414\n",
      " 377.29976414 197.07721333 215.11450723 215.33393843 202.01917005\n",
      " 220.72544116 183.80607117 197.07721333 240.83479901 251.44047004\n",
      " 183.80607117 197.07721333 240.83479901 251.44047004 201.35019283\n",
      " 220.11205736 269.29237991 212.24742749 222.44870817 269.58558344\n",
      " 283.20642139 197.74619055 208.23113588 182.64149341 287.0496805\n",
      " 287.0496805  241.27472543 194.62316397 242.61267987 130.78865945\n",
      " 144.04072384 177.79680598 168.90650298 163.52696744 172.65488056\n",
      " 154.3529998  158.67824555 196.73114833 193.01928639 287.00362598\n",
      " 297.88342277 231.21719344 265.06822742 265.37096983 229.71526782\n",
      " 229.32995524  84.79180271  77.9405278  120.41430572 206.44606373\n",
      " 217.01357922 216.63780553 344.11629001 264.02347651 274.57355414\n",
      " 237.99981572 228.76071578 287.72819661 250.17151242 251.1702088\n",
      " 292.48480946 299.60668978 293.83230278 319.62108539 337.30505108\n",
      " 325.12134664 345.0498541  226.16737707 258.92760561 226.79983865\n",
      " 264.02347651 167.81053731 162.38494724 196.15428016 199.57293857\n",
      " 206.55392339 210.4039489  229.89364193 225.87023974 200.24191579\n",
      " 212.64849067 210.4039489  234.98951283 169.87549068 167.86855903\n",
      " 215.4998198  213.11711446 273.78440589 215.78348445 222.12186216\n",
      " 219.77567245 168.82120089 159.69328776 189.00542309 189.72045483\n",
      " 211.64979429 204.96881995 206.26071986 205.64733606 159.64723324\n",
      " 159.69328776 110.1832758  194.53266108 193.81762934 228.26248396\n",
      " 226.59481036 259.09109923 164.40384609 153.89192401 272.43691257\n",
      " 233.71049038 238.32234321 233.7565449  276.02894766 246.91936198\n",
      " 226.20949779 232.31360396 260.05323942 245.04655943 260.05323942\n",
      " 260.05050749 265.86414206 261.64514981 265.86414206 261.68166545\n",
      " 275.7059949 ]\n"
     ]
    }
   ],
   "source": [
    "Y_pred = regr.predict(test_x)\n",
    "print(Y_pred)"
   ]
  },
  {
   "cell_type": "markdown",
   "id": "0c1bc053",
   "metadata": {},
   "source": [
    "Checking the Accuracy"
   ]
  },
  {
   "cell_type": "code",
   "execution_count": 9,
   "id": "83581318",
   "metadata": {},
   "outputs": [
    {
     "name": "stdout",
     "output_type": "stream",
     "text": [
      "R² Score: 0.9429052675664791\n"
     ]
    }
   ],
   "source": [
    "R = r2_score(test_y , Y_pred)\n",
    "print (\"R² Score:\",R)"
   ]
  }
 ],
 "metadata": {
  "kernelspec": {
   "display_name": "Python 3",
   "language": "python",
   "name": "python3"
  },
  "language_info": {
   "codemirror_mode": {
    "name": "ipython",
    "version": 3
   },
   "file_extension": ".py",
   "mimetype": "text/x-python",
   "name": "python",
   "nbconvert_exporter": "python",
   "pygments_lexer": "ipython3",
   "version": "3.9.4"
  }
 },
 "nbformat": 4,
 "nbformat_minor": 5
}
